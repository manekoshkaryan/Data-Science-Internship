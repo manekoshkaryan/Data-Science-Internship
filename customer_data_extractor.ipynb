{
 "cells": [
  {
   "cell_type": "code",
   "id": "a2b0ea10",
   "metadata": {
    "ExecuteTime": {
     "end_time": "2025-06-26T12:59:20.922312Z",
     "start_time": "2025-06-26T12:59:19.724528Z"
    }
   },
   "source": [
    "import pickle\n",
    "import pandas as pd\n",
    "import re"
   ],
   "outputs": [],
   "execution_count": 1
  },
  {
   "cell_type": "code",
   "id": "93459c96",
   "metadata": {
    "ExecuteTime": {
     "end_time": "2025-06-26T12:59:40.851442Z",
     "start_time": "2025-06-26T12:59:40.839828Z"
    }
   },
   "source": [
    "class CustomerDataExtractor:\n",
    "    \n",
    "    CATEGORY_MAP = {1: 'Electronics', 2: 'Apparel', 3: 'Books', 4: 'Home Goods'}\n",
    "\n",
    "    def __init__(self, orders_file: str, vip_file: str):\n",
    "        self.orders_file = orders_file\n",
    "        self.vip_file = vip_file\n",
    "\n",
    "    def load_data(self):\n",
    "        with open(self.orders_file, 'rb') as f:\n",
    "            customer_list = pickle.load(f)\n",
    "\n",
    "        with open(self.vip_file, 'r') as f:\n",
    "            vip_set = set()\n",
    "            for line in f:\n",
    "                line = line.strip()\n",
    "                if line.isdigit():\n",
    "                    vip_set.add(int(line))\n",
    "\n",
    "        return customer_list, vip_set\n",
    "\n",
    "    def clean_price(self, price_val):\n",
    "        if isinstance(price_val, str):\n",
    "            digits = re.sub(r'[^\\d.]', '', price_val)\n",
    "            if digits:\n",
    "                try:\n",
    "                    return float(digits)\n",
    "                except ValueError:\n",
    "                    return 0.0\n",
    "            else:\n",
    "                return 0.0\n",
    "        else:\n",
    "            try:\n",
    "                return float(price_val)\n",
    "            except (TypeError, ValueError):\n",
    "                return 0.0\n",
    "\n",
    "    def clean_quantity(self, qty_val):\n",
    "        try:\n",
    "            return int(qty_val)\n",
    "        except (TypeError, ValueError):\n",
    "            return 0\n",
    "\n",
    "    def transform(self) -> pd.DataFrame:\n",
    "        customer_list, vip_set = self.load_data()\n",
    "        rows = []\n",
    "\n",
    "        for customer in customer_list:\n",
    "            try:\n",
    "                cust_id = int(customer.get('id'))\n",
    "            except (TypeError, ValueError):\n",
    "                continue\n",
    "\n",
    "            name = customer.get('name', '')\n",
    "            reg_date = pd.to_datetime(customer.get('registration_date'), errors='coerce')\n",
    "            is_vip = cust_id in vip_set\n",
    "\n",
    "            for order in customer.get('orders', []):\n",
    "                try:\n",
    "                    order_id = int(order.get('order_id'))\n",
    "                except (TypeError, ValueError):\n",
    "                    continue\n",
    "\n",
    "                order_date = pd.to_datetime(order.get('order_date'), errors='coerce')\n",
    "                item_totals = []\n",
    "                for item in order.get('items', []):\n",
    "                    unit = self.clean_price(item.get('price'))\n",
    "                    qty = self.clean_quantity(item.get('quantity'))\n",
    "                    item_totals.append(unit * qty)\n",
    "\n",
    "                if item_totals:\n",
    "                    order_total = sum(item_totals)\n",
    "                else:\n",
    "                    order_total = 0.0\n",
    "\n",
    "                for item in order.get('items', []):\n",
    "                    try:\n",
    "                        prod_id = int(item.get('item_id'))\n",
    "                    except (TypeError, ValueError):\n",
    "                        continue\n",
    "\n",
    "                    unit_price = self.clean_price(item.get('price'))\n",
    "                    item_qty = self.clean_quantity(item.get('quantity'))\n",
    "                    total_price = unit_price * item_qty\n",
    "\n",
    "                    if order_total != 0:\n",
    "                        pct = (total_price / order_total) * 100\n",
    "                    else:\n",
    "                        pct = 0.0\n",
    "\n",
    "                    category = self.CATEGORY_MAP.get(item.get('category'), 'Misc')\n",
    "\n",
    "                    rows.append({\n",
    "                        'customer_id': cust_id,\n",
    "                        'customer_name': name,\n",
    "                        'registration_date': reg_date,\n",
    "                        'is_vip': is_vip,\n",
    "                        'order_id': order_id,\n",
    "                        'order_date': order_date,\n",
    "                        'product_id': prod_id,\n",
    "                        'product_name': item.get('product_name', ''),\n",
    "                        'category': category,\n",
    "                        'unit_price': unit_price,\n",
    "                        'item_quantity': item_qty,\n",
    "                        'total_item_price': total_price,\n",
    "                        'total_order_value_percentage': pct\n",
    "                    })\n",
    "\n",
    "        df = pd.DataFrame(rows)\n",
    "        df = df.sort_values(['customer_id', 'order_id', 'product_id']).reset_index(drop=True)\n",
    "        return df"
   ],
   "outputs": [],
   "execution_count": 4
  },
  {
   "cell_type": "code",
   "id": "4723cd87",
   "metadata": {
    "ExecuteTime": {
     "end_time": "2025-06-26T12:59:44.828800Z",
     "start_time": "2025-06-26T12:59:44.776809Z"
    }
   },
   "source": [
    "if __name__ == '__main__':\n",
    "    extractor = CustomerDataExtractor('customer_orders.pkl', 'vip_customers.txt')\n",
    "    final_df = extractor.transform()\n",
    "    final_df.to_csv('customer_orders_final.csv', index=False)"
   ],
   "outputs": [],
   "execution_count": 5
  },
  {
   "cell_type": "code",
   "execution_count": null,
   "id": "a4638a83",
   "metadata": {},
   "outputs": [],
   "source": []
  }
 ],
 "metadata": {
  "kernelspec": {
   "display_name": "Python 3 (ipykernel)",
   "language": "python",
   "name": "python3"
  },
  "language_info": {
   "codemirror_mode": {
    "name": "ipython",
    "version": 3
   },
   "file_extension": ".py",
   "mimetype": "text/x-python",
   "name": "python",
   "nbconvert_exporter": "python",
   "pygments_lexer": "ipython3",
   "version": "3.9.13"
  }
 },
 "nbformat": 4,
 "nbformat_minor": 5
}
